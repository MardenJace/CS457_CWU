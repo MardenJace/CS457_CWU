{
 "cells": [
  {
   "cell_type": "markdown",
   "id": "488b8266",
   "metadata": {},
   "source": [
    "# Lab Assignment: Building a Neural Network from Scratch\n",
    "\n",
    "### Objective\n",
    "This lab guides you through the implementation of a simple feedforward neural network from scratch. \n",
    "By completing this lab, you will:\n",
    "- Initialize a neural network with weights and biases.\n",
    "- Compute the weighted sum at each node.\n",
    "- Apply activation functions for node outputs.\n",
    "- Perform forward propagation to compute predictions.\n",
    "- Implement backpropagation to compute gradients.\n",
    "- Update weights using gradients to minimize the loss."
   ]
  },
  {
   "cell_type": "markdown",
   "id": "2668a14e",
   "metadata": {},
   "source": [
    "## Step 1: Initialize the Network"
   ]
  },
  {
   "cell_type": "code",
   "execution_count": 1,
   "id": "396df339",
   "metadata": {},
   "outputs": [
    {
     "name": "stdout",
     "output_type": "stream",
     "text": [
      "Jace Marden + Initialized Network:\n"
     ]
    },
    {
     "data": {
      "text/plain": [
       "{'layer_1': {'node_1': {'weights': array([0.12, 0.61, 0.13]),\n",
       "   'bias': array([0.24])},\n",
       "  'node_2': {'weights': array([0.33, 0.86, 0.67]), 'bias': array([0.54])},\n",
       "  'node_3': {'weights': array([0.03, 0.73, 0.39]), 'bias': array([0.8])},\n",
       "  'node_4': {'weights': array([0.25, 0.06, 0.87]), 'bias': array([0.22])}},\n",
       " 'layer_2': {'node_1': {'weights': array([0.4 , 0.32, 0.08, 0.84]),\n",
       "   'bias': array([0.85])},\n",
       "  'node_2': {'weights': array([0.97, 0.39, 0.95, 0.45]),\n",
       "   'bias': array([0.67])},\n",
       "  'node_3': {'weights': array([0.08, 0.9 , 0.3 , 0.26]),\n",
       "   'bias': array([0.01])}},\n",
       " 'output': {'node_1': {'weights': array([0.54, 0.48, 0.64]),\n",
       "   'bias': array([0.98])}}}"
      ]
     },
     "execution_count": 1,
     "metadata": {},
     "output_type": "execute_result"
    }
   ],
   "source": [
    "# Import Statements\n",
    "import numpy as np\n",
    "import matplotlib.pyplot as plt\n",
    "from random import seed\n",
    "\n",
    "# Set a fixed seed for reproducability\n",
    "np.random.seed(43)\n",
    "\n",
    "# Initialize the network\n",
    "def initialize_network(num_inputs, num_hidden_layers, num_nodes_hidden, num_nodes_output):\n",
    "    \n",
    "    num_nodes_previous = num_inputs # number of nodes in the previous layer\n",
    "\n",
    "    network = {}\n",
    "    \n",
    "    # loop through each layer and randomly initialize the weights and biases associated with each layer\n",
    "    for layer in range(num_hidden_layers + 1):\n",
    "        \n",
    "        if layer == num_hidden_layers:\n",
    "            layer_name = 'output' # name last layer in the network output\n",
    "            num_nodes = num_nodes_output\n",
    "        else:\n",
    "            layer_name = 'layer_{}'.format(layer + 1) # otherwise give the layer a number\n",
    "            num_nodes = num_nodes_hidden[layer] \n",
    "        \n",
    "        # initialize weights and bias for each node\n",
    "        network[layer_name] = {}\n",
    "        for node in range(num_nodes):\n",
    "            node_name = 'node_{}'.format(node+1)\n",
    "            network[layer_name][node_name] = {\n",
    "                'weights': np.around(np.random.uniform(size=num_nodes_previous), decimals=2),\n",
    "                'bias': np.around(np.random.uniform(size=1), decimals=2),\n",
    "            }\n",
    "    \n",
    "        num_nodes_previous = num_nodes\n",
    "\n",
    "    return network # return the network\n",
    "\n",
    "# Initialize a network with 3 inputs, 2 hidden layers (4 and 3 nodes), and 1 output node\n",
    "network = initialize_network(3, 2, [4, 3], 1)\n",
    "print(\"Jace Marden + Initialized Network:\")\n",
    "network"
   ]
  },
  {
   "cell_type": "markdown",
   "id": "3ecfdd84",
   "metadata": {},
   "source": [
    "## Step 2: Compute Weighted Sum"
   ]
  },
  {
   "cell_type": "code",
   "execution_count": 2,
   "id": "66c4ad58",
   "metadata": {},
   "outputs": [
    {
     "name": "stdout",
     "output_type": "stream",
     "text": [
      "Inputs :  [0.5 0.2 0.1]\n",
      "Jace Marden + Weighted Sum at First Node: [0.435]\n"
     ]
    }
   ],
   "source": [
    "# Weighted sum at each node is computed as the dot product of the inputs and the weights plus the bias\n",
    "def compute_weighted_sum(inputs, weights, bias):\n",
    "    # Please numpy dot to calcuate the compute weighted with linear (implicit dot) then add bias \n",
    "    return np.sum(inputs * weights) + bias\n",
    "\n",
    "# Test weighted sum\n",
    "inputs = np.array([0.5, 0.2, 0.1])\n",
    "print('Inputs : ', inputs)\n",
    "\n",
    "first_node_weight_sum = compute_weighted_sum(inputs, network['layer_1']['node_1']['weights'], network['layer_1']['node_1']['bias'])\n",
    "print(\"Jace Marden + Weighted Sum at First Node:\", first_node_weight_sum)"
   ]
  },
  {
   "cell_type": "markdown",
   "id": "7d82553f",
   "metadata": {},
   "source": [
    "## Step 3: Compute Node Activation"
   ]
  },
  {
   "cell_type": "code",
   "execution_count": 3,
   "id": "36b00bf0",
   "metadata": {},
   "outputs": [
    {
     "name": "stdout",
     "output_type": "stream",
     "text": [
      "Jace Marden + Activation: [0.60706699]\n"
     ]
    }
   ],
   "source": [
    "#Take weighted sum as input and returns the non-linear transformation using sigmoid\n",
    "# use this to compute output first node in first hidden layer\n",
    "def node_activation(weighted_sum):\n",
    "    return 1.0 / (1.0 + np.exp(-1 * weighted_sum))\n",
    "def sigmoid(z):\n",
    "    return 1 / (1 + np.exp(-z))\n",
    "def sigmoid_derivative (a):\n",
    "    return a * (1 - a)\n",
    "\n",
    "# Compute activation for the weighted sum\n",
    "node_weights = network['layer_1']['node_1']['weights']\n",
    "node_bias = network['layer_1']['node_1']['bias']\n",
    "node_output = node_activation(compute_weighted_sum(inputs, node_weights, node_bias))\n",
    "\n",
    "print(\"Jace Marden + Activation:\", node_output)"
   ]
  },
  {
   "cell_type": "markdown",
   "id": "769f9c55",
   "metadata": {},
   "source": [
    "## Step 4: Perform Forward Propagation"
   ]
  },
  {
   "cell_type": "code",
   "execution_count": 4,
   "id": "5d2e9d28",
   "metadata": {},
   "outputs": [
    {
     "name": "stdout",
     "output_type": "stream",
     "text": [
      "Jace Marden + Final Output: [0.9146255]\n",
      "Activations : \n"
     ]
    },
    {
     "data": {
      "text/plain": [
       "[array([0.5, 0.2, 0.1]),\n",
       " array([0.60706699, 0.71990693, 0.73105858, 0.60921174]),\n",
       " array([0.86914493, 0.92471952, 0.74728688]),\n",
       " array([0.9146255])]"
      ]
     },
     "execution_count": 4,
     "metadata": {},
     "output_type": "execute_result"
    }
   ],
   "source": [
    "def forward_propagation(network, inputs):\n",
    "    activations = [inputs]  # Start with the input layer\n",
    "    for layer in network.values():\n",
    "        z = []\n",
    "        a = []\n",
    "        for node in layer.values():\n",
    "            z_value = np.dot(activations[-1], node['weights']) + node['bias']\n",
    "            z.append(z_value)\n",
    "            a.append(sigmoid(z_value))\n",
    "        activations.append(np.array(a).flatten())\n",
    "    return activations\n",
    "\n",
    "# Perform forward propagation\n",
    "activations = forward_propagation(network, inputs)\n",
    "print(\"Jace Marden + Final Output:\", activations[-1])\n",
    "print('Activations : ')\n",
    "activations"
   ]
  },
  {
   "cell_type": "markdown",
   "id": "e342f58d",
   "metadata": {},
   "source": [
    "## Step 5: Backpropagation and Update Weights"
   ]
  },
  {
   "cell_type": "code",
   "execution_count": 5,
   "id": "1ec4d75a",
   "metadata": {},
   "outputs": [
    {
     "name": "stdout",
     "output_type": "stream",
     "text": [
      "Jace Marden + Updated Network:\n"
     ]
    },
    {
     "data": {
      "text/plain": [
       "{'layer_1': {'node_1': {'weights': array([0.12000531, 0.61000212, 0.13000106]),\n",
       "   'bias': array([0.24001061])},\n",
       "  'node_2': {'weights': array([0.33000952, 0.86000381, 0.6700019 ]),\n",
       "   'bias': array([0.54001903])},\n",
       "  'node_3': {'weights': array([0.03000478, 0.73000191, 0.39000096]),\n",
       "   'bias': array([0.80000957])},\n",
       "  'node_4': {'weights': array([0.25000779, 0.06000312, 0.87000156]),\n",
       "   'bias': array([0.22001558])}},\n",
       " 'layer_2': {'node_1': {'weights': array([0.40002488, 0.32002951, 0.08002996, 0.84002497]),\n",
       "   'bias': array([0.85004099])},\n",
       "  'node_2': {'weights': array([0.97001354, 0.39001606, 0.95001631, 0.45001359]),\n",
       "   'bias': array([0.6700223])},\n",
       "  'node_3': {'weights': array([0.08004895, 0.90005805, 0.30005895, 0.26004912]),\n",
       "   'bias': array([0.01008064])}},\n",
       " 'output': {'node_1': {'weights': array([0.54057942, 0.48061647, 0.64049818]),\n",
       "   'bias': array([0.98066665])}}}"
      ]
     },
     "execution_count": 5,
     "metadata": {},
     "output_type": "execute_result"
    }
   ],
   "source": [
    "# Backprop with updates from Quiz 4.3\n",
    "def backpropagation_with_updates(network, activations, y_true, learning_rate):\n",
    "    \"\"\"\n",
    "    Perform backpropagation to calculate gradients and update weights for each layer.\n",
    "    Arguments:\n",
    "        network: Dictionary containing layers with weights and biases.\n",
    "        activations: List of activations from forward propagation.\n",
    "        y_true: Ground truth labels.\n",
    "        learning_rate: Learning rate for weight updates.\n",
    "    Returns:\n",
    "        network: Updated network with modified weights and biases.\n",
    "    \"\"\"\n",
    "\n",
    "    # print(network)\n",
    "    # print(activations)\n",
    "    # print(y_true)\n",
    "    # print(learning_rate)\n",
    "    \n",
    "    # Step 1: Compute deltas for the output layer\n",
    "    # Calculate the error (delta) for the output layer by comparing the predicted output (activations[-1])\n",
    "    # with the true labels (y_true) and applying the derivative of the activation function.\n",
    "    delta_output = (activations[-1] - y_true) * sigmoid_derivative(activations[-1])\n",
    "\n",
    "    # Step 2: Backpropagate through each layer\n",
    "    # Iterate through the layers in reverse order (from output to input)\n",
    "    for layer_idx in reversed(range(len(network))):\n",
    "        # Get the current layer's name and data\n",
    "        layer_name = list(network.keys())[layer_idx]\n",
    "        current_layer = network[layer_name]\n",
    "\n",
    "        if layer_name == 'output':\n",
    "            # For the output layer, use the precomputed delta\n",
    "            delta = delta_output\n",
    "            # print('Output Delta : ', delta)\n",
    "        else:\n",
    "            # For hidden layers, compute the delta by propagating the error backward\n",
    "            # Multiply the current delta with the weights of the next layer (transposed),\n",
    "            # then apply the derivative of the activation function.\n",
    "            \n",
    "            next_layer_name = list(network.keys())[layer_idx + 1]\n",
    "            next_layer = network[next_layer_name]\n",
    "            weight_matrix = np.array([node['weights'] for node in next_layer.values()])\n",
    "#             print('weight_matrix:',weight_matrix)\n",
    "            \n",
    "            #Apply the derivative of the activation function to scale the delta for the current layer.\n",
    "            # This ensures the gradient respects the activation function's behavior.\n",
    "            delta = np.dot(delta, weight_matrix) * sigmoid_derivative(activations[layer_idx + 1])\n",
    "            # print('Else Delta : ', delta)\n",
    "\n",
    "        # Loop through each node in the current layer\n",
    "        for node_idx, (node_name, node_data) in enumerate(current_layer.items()):\n",
    "            # Get the activations from the previous layer (or input for the first hidden layer)\n",
    "            a_prev = activations[layer_idx]\n",
    "            \n",
    "            # Compute the gradients for weights (dW) and biases (db)\n",
    "            dW = delta[node_idx] * a_prev  # Gradient of weights\n",
    "            db = delta[node_idx]           # Gradient of biases\n",
    "\n",
    "            # Update weights and biases using gradient descent\n",
    "            current_layer[node_name]['weights'] -= learning_rate * dW  # Update weights\n",
    "            current_layer[node_name]['bias'] -= learning_rate * db     # Update bias\n",
    "\n",
    "    # Return the updated network with modified weights and biases\n",
    "    return network\n",
    "\n",
    "# Compute gradients\n",
    "y_true = np.array([1])  # Example target output\n",
    "learning_rate = 0.1\n",
    "network = backpropagation_with_updates(network, activations, y_true, learning_rate)\n",
    "print(\"Jace Marden + Updated Network:\")\n",
    "network"
   ]
  },
  {
   "cell_type": "markdown",
   "id": "ed55add1",
   "metadata": {},
   "source": [
    "## Step 6: Visualizing Loss Changes"
   ]
  },
  {
   "cell_type": "code",
   "execution_count": 6,
   "id": "9fe355dc",
   "metadata": {},
   "outputs": [],
   "source": [
    "# Use MSE to compute the loss \n",
    "def compute_loss(y_true, y_pred):\n",
    "    return np.mean((y_true - y_pred) ** 2)\n"
   ]
  },
  {
   "cell_type": "code",
   "execution_count": 7,
   "id": "f7270921",
   "metadata": {
    "scrolled": true
   },
   "outputs": [],
   "source": [
    "# Training Loop\n",
    "losses = []\n",
    "\n",
    "#Training over 1000 iterations due to lower learning rate making line appear linear\n",
    "for iteration in range(1000):\n",
    "    # compute activations\n",
    "    activations = forward_propagation(network, inputs) #forward\n",
    "    # compute_loss for y_true and activations[-1]\n",
    "    loss = compute_loss(y_true, activations[-1])\n",
    "    # add loss to losses\n",
    "    losses.append(loss)\n",
    "\n",
    "    # backpropagation\n",
    "    # update_weights\n",
    "    network = backpropagation_with_updates(network, activations, y_true, learning_rate)"
   ]
  },
  {
   "cell_type": "code",
   "execution_count": 8,
   "id": "c45374cd-3be0-443f-ac6f-a940ecddfcef",
   "metadata": {},
   "outputs": [
    {
     "data": {
      "image/png": "[encoded data removed]",
      "text/plain": [
       "<Figure size 640x480 with 1 Axes>"
      ]
     },
     "metadata": {},
     "output_type": "display_data"
    }
   ],
   "source": [
    "# Plot Loss and rerun all cells\n",
    "plt.plot(losses)\n",
    "plt.title(\"Jace Marden + Loss Before and After Weight Updates\")\n",
    "plt.xlabel(\"Iterations\")\n",
    "plt.ylabel(\"Loss\")\n",
    "plt.show()"
   ]
  }
 ],
 "metadata": {
  "kernelspec": {
   "display_name": "Python 3 (ipykernel)",
   "language": "python",
   "name": "python3"
  },
  "language_info": {
   "codemirror_mode": {
    "name": "ipython",
    "version": 3
   },
   "file_extension": ".py",
   "mimetype": "text/x-python",
   "name": "python",
   "nbconvert_exporter": "python",
   "pygments_lexer": "ipython3",
   "version": "3.13.1"
  }
 },
 "nbformat": 4,
 "nbformat_minor": 5
}
