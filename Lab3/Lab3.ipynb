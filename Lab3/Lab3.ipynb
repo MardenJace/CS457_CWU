{
 "cells": [
  {
   "cell_type": "markdown",
   "id": "488b8266",
   "metadata": {},
   "source": [
    "# Lab Assignment: Building a Neural Network from Scratch\n",
    "\n",
    "### Objective\n",
    "This lab guides you through the implementation of a simple feedforward neural network from scratch. \n",
    "By completing this lab, you will:\n",
    "- Initialize a neural network with weights and biases.\n",
    "- Compute the weighted sum at each node.\n",
    "- Apply activation functions for node outputs.\n",
    "- Perform forward propagation to compute predictions.\n",
    "- Implement backpropagation to compute gradients.\n",
    "- Update weights using gradients to minimize the loss."
   ]
  },
  {
   "cell_type": "markdown",
   "id": "2668a14e",
   "metadata": {},
   "source": [
    "## Step 1: Initialize the Network"
   ]
  },
  {
   "cell_type": "code",
   "execution_count": 1,
   "id": "396df339",
   "metadata": {},
   "outputs": [
    {
     "name": "stdout",
     "output_type": "stream",
     "text": [
      "Jace Marden + Initialized Network:\n"
     ]
    },
    {
     "data": {
      "text/plain": [
       "{'layer_1': {'node_1': {'weights': array([0.37, 0.95, 0.73]),\n",
       "   'bias': array([0.6])},\n",
       "  'node_2': {'weights': array([0.16, 0.16, 0.06]), 'bias': array([0.87])},\n",
       "  'node_3': {'weights': array([0.6 , 0.71, 0.02]), 'bias': array([0.97])},\n",
       "  'node_4': {'weights': array([0.83, 0.21, 0.18]), 'bias': array([0.18])}},\n",
       " 'layer_2': {'node_1': {'weights': array([0.3 , 0.52, 0.43, 0.29]),\n",
       "   'bias': array([0.61])},\n",
       "  'node_2': {'weights': array([0.14, 0.29, 0.37, 0.46]),\n",
       "   'bias': array([0.79])},\n",
       "  'node_3': {'weights': array([0.2 , 0.51, 0.59, 0.05]),\n",
       "   'bias': array([0.61])}},\n",
       " 'output': {'node_1': {'weights': array([0.17, 0.07, 0.95]),\n",
       "   'bias': array([0.97])}}}"
      ]
     },
     "execution_count": 1,
     "metadata": {},
     "output_type": "execute_result"
    }
   ],
   "source": [
    "# Import Statements\n",
    "import numpy as np\n",
    "import matplotlib.pyplot as plt\n",
    "from random import seed\n",
    "\n",
    "# Set a fixed seed for reproducability\n",
    "np.random.seed(42)\n",
    "\n",
    "# Initialize the network\n",
    "def initialize_network(num_inputs, num_hidden_layers, num_nodes_hidden, num_nodes_output):\n",
    "    \n",
    "    num_nodes_previous = num_inputs # number of nodes in the previous layer\n",
    "\n",
    "    network = {}\n",
    "    \n",
    "    # loop through each layer and randomly initialize the weights and biases associated with each layer\n",
    "    for layer in range(num_hidden_layers + 1):\n",
    "        \n",
    "        if layer == num_hidden_layers:\n",
    "            layer_name = 'output' # name last layer in the network output\n",
    "            num_nodes = num_nodes_output\n",
    "        else:\n",
    "            layer_name = 'layer_{}'.format(layer + 1) # otherwise give the layer a number\n",
    "            num_nodes = num_nodes_hidden[layer] \n",
    "        \n",
    "        # initialize weights and bias for each node\n",
    "        network[layer_name] = {}\n",
    "        for node in range(num_nodes):\n",
    "            node_name = 'node_{}'.format(node+1)\n",
    "            network[layer_name][node_name] = {\n",
    "                'weights': np.around(np.random.uniform(size=num_nodes_previous), decimals=2),\n",
    "                'bias': np.around(np.random.uniform(size=1), decimals=2),\n",
    "            }\n",
    "    \n",
    "        num_nodes_previous = num_nodes\n",
    "\n",
    "    return network # return the network\n",
    "\n",
    "# Initialize a network with 3 inputs, 2 hidden layers (4 and 3 nodes), and 1 output node\n",
    "network = initialize_network(3, 2, [4, 3], 1)\n",
    "print(\"Jace Marden + Initialized Network:\")\n",
    "network"
   ]
  },
  {
   "cell_type": "markdown",
   "id": "3ecfdd84",
   "metadata": {},
   "source": [
    "## Step 2: Compute Weighted Sum"
   ]
  },
  {
   "cell_type": "code",
   "execution_count": 2,
   "id": "66c4ad58",
   "metadata": {},
   "outputs": [
    {
     "name": "stdout",
     "output_type": "stream",
     "text": [
      "Inputs :  [0.5 0.2 0.1]\n",
      "Jace Marden + Weighted Sum at First Node: [1.048]\n"
     ]
    }
   ],
   "source": [
    "# Weighted sum at each node is computed as the dot product of the inputs and the weights plus the bias\n",
    "def compute_weighted_sum(inputs, weights, bias):\n",
    "    # Please numpy dot to calcuate the compute weighted with linear (implicit dot) then add bias \n",
    "    return np.sum(inputs * weights) + bias\n",
    "\n",
    "# Test weighted sum\n",
    "inputs = np.array([0.5, 0.2, 0.1])\n",
    "print('Inputs : ', inputs)\n",
    "\n",
    "first_node_weight_sum = compute_weighted_sum(inputs, network['layer_1']['node_1']['weights'], network['layer_1']['node_1']['bias'])\n",
    "print(\"Jace Marden + Weighted Sum at First Node:\", first_node_weight_sum)"
   ]
  },
  {
   "cell_type": "markdown",
   "id": "7d82553f",
   "metadata": {},
   "source": [
    "## Step 3: Compute Node Activation"
   ]
  },
  {
   "cell_type": "code",
   "execution_count": 3,
   "id": "36b00bf0",
   "metadata": {},
   "outputs": [
    {
     "name": "stdout",
     "output_type": "stream",
     "text": [
      "Jace Marden + Activation: [0.74039066]\n"
     ]
    }
   ],
   "source": [
    "#Take weighted sum as input and returns the non-linear transformation using sigmoid\n",
    "# use this to compute output first node in first hidden layer\n",
    "def node_activation(weighted_sum):\n",
    "    return 1.0 / (1.0 + np.exp(-1 * weighted_sum))\n",
    "def sigmoid(z):\n",
    "    return 1 / (1 + np.exp(-z))\n",
    "def sigmoid_derivative (a):\n",
    "    return a * (1 - a)\n",
    "\n",
    "# Compute activation for the weighted sum\n",
    "node_weights = network['layer_1']['node_1']['weights']\n",
    "node_bias = network['layer_1']['node_1']['bias']\n",
    "node_output = node_activation(compute_weighted_sum(inputs, node_weights, node_bias))\n",
    "\n",
    "print(\"Jace Marden + Activation:\", node_output)"
   ]
  },
  {
   "cell_type": "markdown",
   "id": "769f9c55",
   "metadata": {},
   "source": [
    "## Step 4: Perform Forward Propagation"
   ]
  },
  {
   "cell_type": "code",
   "execution_count": 4,
   "id": "5d2e9d28",
   "metadata": {},
   "outputs": [
    {
     "name": "stdout",
     "output_type": "stream",
     "text": [
      "Jace Marden + Final Output: [0.87753786]\n",
      "Activations : \n"
     ]
    },
    {
     "data": {
      "text/plain": [
       "[array([0.5, 0.2, 0.1]),\n",
       " array([0.74039066, 0.7286927 , 0.80439608, 0.65813632]),\n",
       " array([0.85167349, 0.84623151, 0.83715521]),\n",
       " array([0.87753786])]"
      ]
     },
     "execution_count": 4,
     "metadata": {},
     "output_type": "execute_result"
    }
   ],
   "source": [
    "def forward_propagation(network, inputs):\n",
    "    activations = [inputs]  # Start with the input layer\n",
    "    for layer in network.values():\n",
    "        z = []\n",
    "        a = []\n",
    "        for node in layer.values():\n",
    "            z_value = np.dot(activations[-1], node['weights']) + node['bias']\n",
    "            z.append(z_value)\n",
    "            a.append(sigmoid(z_value))\n",
    "        activations.append(np.array(a).flatten())\n",
    "    return activations\n",
    "\n",
    "# Perform forward propagation\n",
    "activations = forward_propagation(network, inputs)\n",
    "print(\"Jace Marden + Final Output:\", activations[-1])\n",
    "print('Activations : ')\n",
    "activations"
   ]
  },
  {
   "cell_type": "markdown",
   "id": "e342f58d",
   "metadata": {},
   "source": [
    "## Step 5: Backpropagation and Update Weights"
   ]
  },
  {
   "cell_type": "code",
   "execution_count": 5,
   "id": "1ec4d75a",
   "metadata": {},
   "outputs": [
    {
     "name": "stdout",
     "output_type": "stream",
     "text": [
      "Jace Marden + Updated Network:\n"
     ]
    },
    {
     "data": {
      "text/plain": [
       "{'layer_1': {'node_1': {'weights': array([0.37000427, 0.95000171, 0.73000085]),\n",
       "   'bias': array([0.60000853])},\n",
       "  'node_2': {'weights': array([0.16001042, 0.16000417, 0.06000208]),\n",
       "   'bias': array([0.87002083])},\n",
       "  'node_3': {'weights': array([0.60000924, 0.7100037 , 0.02000185]),\n",
       "   'bias': array([0.97001848])},\n",
       "  'node_4': {'weights': array([0.83000252, 0.21000101, 0.1800005 ]),\n",
       "   'bias': array([0.18000504])}},\n",
       " 'layer_2': {'node_1': {'weights': array([0.30002106, 0.52002073, 0.43002288, 0.29001872]),\n",
       "   'bias': array([0.61002845])},\n",
       "  'node_2': {'weights': array([0.14000902, 0.29000887, 0.3700098 , 0.46000801]),\n",
       "   'bias': array([0.79001218])},\n",
       "  'node_3': {'weights': array([0.20012634, 0.51012434, 0.59013726, 0.0501123 ]),\n",
       "   'bias': array([0.61017064])}},\n",
       " 'output': {'node_1': {'weights': array([0.17112084, 0.07111368, 0.95110173]),\n",
       "   'bias': array([0.97131604])}}}"
      ]
     },
     "execution_count": 5,
     "metadata": {},
     "output_type": "execute_result"
    }
   ],
   "source": [
    "# Backprop with updates from Quiz 4.3\n",
    "def backpropagation_with_updates(network, activations, y_true, learning_rate):\n",
    "    \"\"\"\n",
    "    Perform backpropagation to calculate gradients and update weights for each layer.\n",
    "    Arguments:\n",
    "        network: Dictionary containing layers with weights and biases.\n",
    "        activations: List of activations from forward propagation.\n",
    "        y_true: Ground truth labels.\n",
    "        learning_rate: Learning rate for weight updates.\n",
    "    Returns:\n",
    "        network: Updated network with modified weights and biases.\n",
    "    \"\"\"\n",
    "\n",
    "    # print(network)\n",
    "    # print(activations)\n",
    "    # print(y_true)\n",
    "    # print(learning_rate)\n",
    "    \n",
    "    # Step 1: Compute deltas for the output layer\n",
    "    # Calculate the error (delta) for the output layer by comparing the predicted output (activations[-1])\n",
    "    # with the true labels (y_true) and applying the derivative of the activation function.\n",
    "    delta_output = (activations[-1] - y_true) * sigmoid_derivative(activations[-1])\n",
    "\n",
    "    # Step 2: Backpropagate through each layer\n",
    "    # Iterate through the layers in reverse order (from output to input)\n",
    "    for layer_idx in reversed(range(len(network))):\n",
    "        # Get the current layer's name and data\n",
    "        layer_name = list(network.keys())[layer_idx]\n",
    "        current_layer = network[layer_name]\n",
    "\n",
    "        if layer_name == 'output':\n",
    "            # For the output layer, use the precomputed delta\n",
    "            delta = delta_output\n",
    "            # print('Output Delta : ', delta)\n",
    "        else:\n",
    "            # For hidden layers, compute the delta by propagating the error backward\n",
    "            # Multiply the current delta with the weights of the next layer (transposed),\n",
    "            # then apply the derivative of the activation function.\n",
    "            \n",
    "            next_layer_name = list(network.keys())[layer_idx + 1]\n",
    "            next_layer = network[next_layer_name]\n",
    "            weight_matrix = np.array([node['weights'] for node in next_layer.values()])\n",
    "#             print('weight_matrix:',weight_matrix)\n",
    "            \n",
    "            #Apply the derivative of the activation function to scale the delta for the current layer.\n",
    "            # This ensures the gradient respects the activation function's behavior.\n",
    "            delta = np.dot(delta, weight_matrix) * sigmoid_derivative(activations[layer_idx + 1])\n",
    "            # print('Else Delta : ', delta)\n",
    "\n",
    "        # Loop through each node in the current layer\n",
    "        for node_idx, (node_name, node_data) in enumerate(current_layer.items()):\n",
    "            # Get the activations from the previous layer (or input for the first hidden layer)\n",
    "            a_prev = activations[layer_idx]\n",
    "            \n",
    "            # Compute the gradients for weights (dW) and biases (db)\n",
    "            dW = delta[node_idx] * a_prev  # Gradient of weights\n",
    "            db = delta[node_idx]           # Gradient of biases\n",
    "\n",
    "            # Update weights and biases using gradient descent\n",
    "            current_layer[node_name]['weights'] -= learning_rate * dW  # Update weights\n",
    "            current_layer[node_name]['bias'] -= learning_rate * db     # Update bias\n",
    "\n",
    "    # Return the updated network with modified weights and biases\n",
    "    return network\n",
    "\n",
    "# Compute gradients\n",
    "y_true = np.array([[1]])  # Example target output\n",
    "learning_rate = 0.1\n",
    "network = backpropagation_with_updates(network, activations, y_true, learning_rate)\n",
    "print(\"Jace Marden + Updated Network:\")\n",
    "network"
   ]
  },
  {
   "cell_type": "markdown",
   "id": "ed55add1",
   "metadata": {},
   "source": [
    "## Step 6: Visualizing Loss Changes"
   ]
  },
  {
   "cell_type": "code",
   "execution_count": 6,
   "id": "9fe355dc",
   "metadata": {},
   "outputs": [],
   "source": [
    "# Use MSE to compute the loss \n",
    "def compute_loss(y_true, y_pred):\n",
    "    return np.mean((y_true - y_pred) ** 2)\n"
   ]
  },
  {
   "cell_type": "code",
   "execution_count": 7,
   "id": "f7270921",
   "metadata": {
    "scrolled": true
   },
   "outputs": [],
   "source": [
    "# Training Loop\n",
    "losses = []\n",
    "\n",
    "#Training over 1000 iterations due to lower learning rate making line appear linear\n",
    "for iteration in range(1000):\n",
    "    # compute activations\n",
    "    activations = forward_propagation(network, inputs) #forward\n",
    "    # compute_loss for y_true and activations[-1]\n",
    "    loss = compute_loss(y_true, activations[-1])\n",
    "    # add loss to losses\n",
    "    losses.append(loss)\n",
    "\n",
    "    # backpropagation\n",
    "    # update_weights\n",
    "    network = backpropagation_with_updates(network, activations, y_true, learning_rate)"
   ]
  },
  {
   "cell_type": "code",
   "execution_count": 8,
   "id": "c45374cd-3be0-443f-ac6f-a940ecddfcef",
   "metadata": {},
   "outputs": [
    {
     "data": {
      "text/plain": [
       "<function matplotlib.pyplot.show(close=None, block=None)>"
      ]
     },
     "execution_count": 8,
     "metadata": {},
     "output_type": "execute_result"
    },
    {
     "data": {
      "image/png": "[encoded data removed]",
      "text/plain": [
       "<Figure size 640x480 with 1 Axes>"
      ]
     },
     "metadata": {},
     "output_type": "display_data"
    }
   ],
   "source": [
    "# Plot Loss and rerun all cells\n",
    "plt.plot(losses)\n",
    "plt.title(\"Jace Marden + Loss Before and After Weight Updates\")\n",
    "plt.xlabel(\"Iterations\")\n",
    "plt.ylabel(\"Loss\")\n",
    "plt.show\n",
    "#"
   ]
  }
 ],
 "metadata": {
  "kernelspec": {
   "display_name": "Python 3 (ipykernel)",
   "language": "python",
   "name": "python3"
  },
  "language_info": {
   "codemirror_mode": {
    "name": "ipython",
    "version": 3
   },
   "file_extension": ".py",
   "mimetype": "text/x-python",
   "name": "python",
   "nbconvert_exporter": "python",
   "pygments_lexer": "ipython3",
   "version": "3.13.1"
  }
 },
 "nbformat": 4,
 "nbformat_minor": 5
}
