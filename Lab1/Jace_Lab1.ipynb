{
 "cells": [
  {
   "cell_type": "markdown",
   "metadata": {},
   "source": [
    "# Exercises with Python"
   ]
  },
  {
   "cell_type": "code",
   "execution_count": 3,
   "metadata": {},
   "outputs": [],
   "source": [
    "import numpy as np\n",
    "import matplotlib.pyplot as plt\n",
    "import pandas as pd"
   ]
  },
  {
   "cell_type": "markdown",
   "metadata": {},
   "source": [
    "## Exercise 1 - Numpy\n",
    "#### Creat an array of 450 random integers between -10 and 10"
   ]
  },
  {
   "cell_type": "code",
   "execution_count": 4,
   "metadata": {},
   "outputs": [
    {
     "data": {
      "text/plain": [
       "array([ -4,  -6,  -3,  -8,   4,   3,  -3,  -7,   2,  -6,  10,   4, -10,\n",
       "         7,  -2, -10,  -9,  -2, -10,   2,  -5,   7,   9,  -3,   4,  -8,\n",
       "        -8,   3,   8,  -1,  -1,   8,   5,   2,   4,   3,   0,  -9,   3,\n",
       "         9,  -8,  -9,   3,  -2,  -8,  -1,  -5,  -2, -10,  10,   1,  -6,\n",
       "       -10,   4,   1,   0,  -5,   6,  -5,   9,   2,   0,  -8,   2,  -2,\n",
       "        -1,   6,   9,  -4, -10,   5,  -8,   7,   4,   4,  10,   1,  -1,\n",
       "         1,  -4,   7,   7,   3,  -1,   7,   1,   0,   6,   0,  10,   7,\n",
       "        -6, -10,   4,   7,  -9,  -7,  -7,  -8,  -6,   2,   8,   3,   5,\n",
       "        -5,   2,   2,   6,   6,   7,  -5,  -2,   3,  -2,  -9,  -7,   3,\n",
       "         4,  10,  -6,   2,  -6,  -2,  -6,   1,  -9,  -6,  -6,  -3,   2,\n",
       "         7,   2,  -6,   5,  -2,   5,  -8,  -2,  -1,   2,  -3,   6,  -6,\n",
       "         9,   0,   9,   4,  -8,   5,  -8,  -9,  -7,   6,   2,  10,   2,\n",
       "        -7,  -8,   4,   0,   5,  -9,  -4,   0,   8,   1,  -7,   6,  -1,\n",
       "        10,  -8,  -8,   7,  -5,   2,   5,  -5,   0,  -4,   3,  -5,  -3,\n",
       "         8,  -7,   0,   4,  10, -10,   6,  10,   2,   3,   3,   9, -10,\n",
       "        -7,  -6,   8,   8,   3, -10,  -4,   7,   8,   0,  -2,  -8,  -1,\n",
       "         6,   3,  -4,  -8,   3,  -4,   5,  -2,  -2,  -9,  -7,   1,  -3,\n",
       "         7,  -3,   7,   1,   5,   5,   0,   6,  -6,  -1,  -3,   0,   2,\n",
       "        10,   9,   1,  -7,   0,   9,  -9,   9,  -2,  -3,   4,   8,  -9,\n",
       "         0,   6,  -3,  -5,  -2,   4,  -7,  -6,  -1,  10,   3,  -8,  10,\n",
       "       -10,  -8,   6,   9,   2, -10,  -2,  -6,  -7,   7,  -7,  -1,   4,\n",
       "         3,  -4,  -2,  -5,   1,   6,  -8,   7,  -6,  -8,   6,   3,   3,\n",
       "         7,  -4,  -3,  -1,   8,  -9,   3,   7,   7,   2,  -2,   7,  -2,\n",
       "         0,   5,  -6,   9,   6,   6,  -5,  -6,  -6, -10,  -3,   8,  10,\n",
       "         9,   1,  -2,   3,   8,   5,  -1,  -2, -10,  -5,   4,  -2,  -5,\n",
       "         7,  -4, -10,   7,  -3,  10,  -9,   3,   6,  -8, -10,   0,  -1,\n",
       "         8,   2,   0,   1,   2,   4,  -5,  -5,  -8,   2,   3,  -9,  -9,\n",
       "        -2,  -6,  -7,  10,   6,   2,   3,   9,  -1,   2,  -6,   0,  10,\n",
       "        -9,   9,  -6,   4,  -7,  -4,   3, -10,   4,  -1,  -5,  -8,  -1,\n",
       "       -10,  -5,   0,   0,  -1,  -8,  -5,  -3,   8,  -2,   5,   9,   9,\n",
       "         7,   8,  -8,  -7,  -4,   0,   5,   4,  -3,  -1,   5,  -4, -10,\n",
       "         5,  -9,   0,  -3,   2,  -4,  -3,  -4,   3,  -8,   6,   0,  10,\n",
       "        -3,  -1,   7,  -9,   2,   4,  -5,   4,  -9,  -6,  -8,  -3,  -3,\n",
       "        10,   5,  10,   1,   1,   0,  -3,  -9,   8,  -1,   6,   4,   6,\n",
       "        -3,   1,  -4,  -2,   6,   5,  -6,  -4], dtype=int32)"
      ]
     },
     "execution_count": 4,
     "metadata": {},
     "output_type": "execute_result"
    }
   ],
   "source": [
    "# Your code: \n",
    "\n",
    "array = np.random.randint(-10, 11, 450)\n",
    "\n",
    "array"
   ]
  },
  {
   "cell_type": "markdown",
   "metadata": {},
   "source": [
    "#### Resize the above array as a 5x70 matrix. \n",
    "#### Is there a problem? \n",
    "\n",
    "#### If there is, correct it to a suitable shape.\n",
    "\n",
    "We check what dimension our array has:"
   ]
  },
  {
   "cell_type": "code",
   "execution_count": 5,
   "metadata": {},
   "outputs": [
    {
     "name": "stdout",
     "output_type": "stream",
     "text": [
      "(450,)\n"
     ]
    },
    {
     "ename": "ValueError",
     "evalue": "cannot reshape array of size 450 into shape (5,70)",
     "output_type": "error",
     "traceback": [
      "\u001b[1;31m---------------------------------------------------------------------------\u001b[0m",
      "\u001b[1;31mValueError\u001b[0m                                Traceback (most recent call last)",
      "Cell \u001b[1;32mIn[5], line 5\u001b[0m\n\u001b[0;32m      1\u001b[0m \u001b[38;5;66;03m# Your code:\u001b[39;00m\n\u001b[0;32m      3\u001b[0m \u001b[38;5;28mprint\u001b[39m(array\u001b[38;5;241m.\u001b[39mshape)\n\u001b[1;32m----> 5\u001b[0m new_matrix \u001b[38;5;241m=\u001b[39m \u001b[43marray\u001b[49m\u001b[38;5;241;43m.\u001b[39;49m\u001b[43mreshape\u001b[49m\u001b[43m(\u001b[49m\u001b[38;5;241;43m5\u001b[39;49m\u001b[43m,\u001b[49m\u001b[43m \u001b[49m\u001b[38;5;241;43m70\u001b[39;49m\u001b[43m)\u001b[49m\n\u001b[0;32m      8\u001b[0m \u001b[38;5;66;03m# Is there a problem? why?\u001b[39;00m\n\u001b[0;32m      9\u001b[0m \u001b[38;5;66;03m#Please add your idea\u001b[39;00m\n\u001b[0;32m     10\u001b[0m \u001b[38;5;66;03m#450 elements cannot be reshaped into 350 element space\u001b[39;00m\n\u001b[0;32m     11\u001b[0m \u001b[38;5;66;03m# instead 5 x 90 must be used to work\u001b[39;00m\n",
      "\u001b[1;31mValueError\u001b[0m: cannot reshape array of size 450 into shape (5,70)"
     ]
    }
   ],
   "source": [
    "# Your code:\n",
    "\n",
    "print(array.shape)\n",
    "\n",
    "new_matrix = array.reshape(5, 70)\n",
    "\n",
    "\n",
    "# Is there a problem? why?\n",
    "#Please add your idea\n",
    "#450 elements cannot be reshaped into 350 element space\n",
    "# instead 5 x 90 must be used to work\n"
   ]
  },
  {
   "cell_type": "code",
   "execution_count": 6,
   "metadata": {},
   "outputs": [
    {
     "data": {
      "text/plain": [
       "(450,)"
      ]
     },
     "execution_count": 6,
     "metadata": {},
     "output_type": "execute_result"
    }
   ],
   "source": [
    "array.shape"
   ]
  },
  {
   "cell_type": "markdown",
   "metadata": {},
   "source": [
    "We resize:"
   ]
  },
  {
   "cell_type": "code",
   "execution_count": 7,
   "metadata": {},
   "outputs": [
    {
     "data": {
      "text/plain": [
       "(5, 90)"
      ]
     },
     "execution_count": 7,
     "metadata": {},
     "output_type": "execute_result"
    }
   ],
   "source": [
    "corrected_matrix = array.reshape(5, 90)\n",
    "corrected_matrix.shape"
   ]
  },
  {
   "cell_type": "markdown",
   "metadata": {},
   "source": [
    "#### Choose values greater than 0 from your corrected_matrix."
   ]
  },
  {
   "cell_type": "code",
   "execution_count": 8,
   "metadata": {},
   "outputs": [
    {
     "data": {
      "text/plain": [
       "array([ 4,  3,  2, 10,  4,  7,  2,  7,  9,  4,  3,  8,  8,  5,  2,  4,  3,\n",
       "        3,  9,  3, 10,  1,  4,  1,  6,  9,  2,  2,  6,  9,  5,  7,  4,  4,\n",
       "       10,  1,  1,  7,  7,  3,  7,  1,  6, 10,  7,  4,  7,  2,  8,  3,  5,\n",
       "        2,  2,  6,  6,  7,  3,  3,  4, 10,  2,  1,  2,  7,  2,  5,  5,  2,\n",
       "        6,  9,  9,  4,  5,  6,  2, 10,  2,  4,  5,  8,  1,  6, 10,  7,  2,\n",
       "        5,  3,  8,  4, 10,  6, 10,  2,  3,  3,  9,  8,  8,  3,  7,  8,  6,\n",
       "        3,  3,  5,  1,  7,  7,  1,  5,  5,  6,  2, 10,  9,  1,  9,  9,  4,\n",
       "        8,  6,  4, 10,  3, 10,  6,  9,  2,  7,  4,  3,  1,  6,  7,  6,  3,\n",
       "        3,  7,  8,  3,  7,  7,  2,  7,  5,  9,  6,  6,  8, 10,  9,  1,  3,\n",
       "        8,  5,  4,  7,  7, 10,  3,  6,  8,  2,  1,  2,  4,  2,  3, 10,  6,\n",
       "        2,  3,  9,  2, 10,  9,  4,  3,  4,  8,  5,  9,  9,  7,  8,  5,  4,\n",
       "        5,  5,  2,  3,  6, 10,  7,  2,  4,  4, 10,  5, 10,  1,  1,  8,  6,\n",
       "        4,  6,  1,  6,  5], dtype=int32)"
      ]
     },
     "execution_count": 8,
     "metadata": {},
     "output_type": "execute_result"
    }
   ],
   "source": [
    "# Your code\n",
    "#tried np where, asarray, select, and a bunch of methods before realizing this was possible\n",
    "corrected_matrix[corrected_matrix > 0]"
   ]
  },
  {
   "cell_type": "markdown",
   "metadata": {},
   "source": [
    "#### Given this array x = np.array ([- 5,6, -7,9]), create another array in absolute value "
   ]
  },
  {
   "cell_type": "code",
   "execution_count": 9,
   "metadata": {},
   "outputs": [
    {
     "data": {
      "text/plain": [
       "array([5, 6, 7, 9])"
      ]
     },
     "execution_count": 9,
     "metadata": {},
     "output_type": "execute_result"
    }
   ],
   "source": [
    "# your code:\n",
    "x = np.array ([- 5,6, -7,9])\n",
    "x_abs = np.absolute(x)\n",
    "x_abs"
   ]
  },
  {
   "cell_type": "markdown",
   "metadata": {},
   "source": [
    "#### Given this array x = np.array ([- 5,6, -7,9]), transform it into a 2x2 matrix and calculate the maximum and minimum of each row and column. "
   ]
  },
  {
   "cell_type": "code",
   "execution_count": 10,
   "metadata": {},
   "outputs": [
    {
     "name": "stdout",
     "output_type": "stream",
     "text": [
      "[[-5  6]\n",
      " [-7  9]]\n",
      "Min of columns :  [-7  6]\n",
      "Min of rows :  [-5 -7]\n"
     ]
    }
   ],
   "source": [
    "# your code:\n",
    "x = np.array ([- 5,6, -7,9])\n",
    "\n",
    "x_reshaped = x.reshape(2, 2)\n",
    "print(x_reshaped)\n",
    "\n",
    "min_col = np.min(x_reshaped, axis=0)\n",
    "print('Min of columns : ', min_col)\n",
    "\n",
    "min_row = np.min(x_reshaped, axis=1)\n",
    "print('Min of rows : ', min_row)"
   ]
  },
  {
   "cell_type": "markdown",
   "metadata": {},
   "source": [
    "#### Create a matrix of ones with 3x3 range as a_ones, and modify the the a_ones[1][0] = 3  "
   ]
  },
  {
   "cell_type": "code",
   "execution_count": 11,
   "metadata": {},
   "outputs": [
    {
     "data": {
      "text/plain": [
       "array([[1., 1., 1.],\n",
       "       [3., 1., 1.],\n",
       "       [1., 1., 1.]])"
      ]
     },
     "execution_count": 11,
     "metadata": {},
     "output_type": "execute_result"
    }
   ],
   "source": [
    "# your code:\n",
    "\n",
    "a_ones = np.ones(9).reshape(3, 3)\n",
    "\n",
    "a_ones[1][0] = 3\n",
    "\n",
    "a_ones\n"
   ]
  },
  {
   "cell_type": "markdown",
   "metadata": {},
   "source": [
    "#### Compute dot product for a_ones and x_reshaped"
   ]
  },
  {
   "cell_type": "code",
   "execution_count": 12,
   "metadata": {},
   "outputs": [
    {
     "data": {
      "text/plain": [
       "array([[-12.,  15.,   0.],\n",
       "       [-22.,  27.,   0.],\n",
       "       [-12.,  15.,   0.]])"
      ]
     },
     "execution_count": 12,
     "metadata": {},
     "output_type": "execute_result"
    }
   ],
   "source": [
    "# Since a_ones is a 2x2 matrix and x_reshaped is a 3x3 matrix they are incompatible for dot product\n",
    "# to solve this without loss I will pad with 0's, the closest I can see possible to correct dot product for misaligned sizes\n",
    "\n",
    "# your code\n",
    "np.dot(a_ones, np.pad(x_reshaped, (0, 1), 'constant'))\n",
    "\n",
    "# List the mathematical calculation steps\n",
    "\n",
    "# first x_reshaped is taken from a 2x2 matrix to a 3x3 matrix with 0's padded, due to the need for edge size alignment between matrices in dot product\n",
    "# the first row of the dot product is made by taking the first row of a_ones with each column of x_reshaped(padded)\n",
    "#    step through each row of a_ones as \"i\" and internally step through each column of x_reshaped as \"j\"\n",
    "#       take each index times its mirror, then sum up the products\n",
    "# size m x n must line up with n x k in order to dot product"
   ]
  },
  {
   "cell_type": "markdown",
   "metadata": {},
   "source": [
    "## Exercise 2 - Plot Practice"
   ]
  },
  {
   "cell_type": "markdown",
   "metadata": {},
   "source": [
    "#### Undergraduate student Instructions (CS457)\n",
    "\n",
    "- Let's think if we have this function: f (t) defined by: f (t) = 2t / (1 + t ^ 2) ^ 2 with t> 0.\n",
    "- Where t could be generated by np.linspace(0,10,100)\n",
    "- Provide plot results"
   ]
  },
  {
   "cell_type": "code",
   "execution_count": 13,
   "metadata": {},
   "outputs": [
    {
     "data": {
      "text/plain": [
       "array([ 0.        ,  0.1010101 ,  0.2020202 ,  0.3030303 ,  0.4040404 ,\n",
       "        0.50505051,  0.60606061,  0.70707071,  0.80808081,  0.90909091,\n",
       "        1.01010101,  1.11111111,  1.21212121,  1.31313131,  1.41414141,\n",
       "        1.51515152,  1.61616162,  1.71717172,  1.81818182,  1.91919192,\n",
       "        2.02020202,  2.12121212,  2.22222222,  2.32323232,  2.42424242,\n",
       "        2.52525253,  2.62626263,  2.72727273,  2.82828283,  2.92929293,\n",
       "        3.03030303,  3.13131313,  3.23232323,  3.33333333,  3.43434343,\n",
       "        3.53535354,  3.63636364,  3.73737374,  3.83838384,  3.93939394,\n",
       "        4.04040404,  4.14141414,  4.24242424,  4.34343434,  4.44444444,\n",
       "        4.54545455,  4.64646465,  4.74747475,  4.84848485,  4.94949495,\n",
       "        5.05050505,  5.15151515,  5.25252525,  5.35353535,  5.45454545,\n",
       "        5.55555556,  5.65656566,  5.75757576,  5.85858586,  5.95959596,\n",
       "        6.06060606,  6.16161616,  6.26262626,  6.36363636,  6.46464646,\n",
       "        6.56565657,  6.66666667,  6.76767677,  6.86868687,  6.96969697,\n",
       "        7.07070707,  7.17171717,  7.27272727,  7.37373737,  7.47474747,\n",
       "        7.57575758,  7.67676768,  7.77777778,  7.87878788,  7.97979798,\n",
       "        8.08080808,  8.18181818,  8.28282828,  8.38383838,  8.48484848,\n",
       "        8.58585859,  8.68686869,  8.78787879,  8.88888889,  8.98989899,\n",
       "        9.09090909,  9.19191919,  9.29292929,  9.39393939,  9.49494949,\n",
       "        9.5959596 ,  9.6969697 ,  9.7979798 ,  9.8989899 , 10.        ])"
      ]
     },
     "execution_count": 13,
     "metadata": {},
     "output_type": "execute_result"
    }
   ],
   "source": [
    "# Your code:\n",
    "t = np.linspace(0, 10, 100)\n",
    "t"
   ]
  },
  {
   "cell_type": "code",
   "execution_count": 38,
   "metadata": {},
   "outputs": [
    {
     "data": {
      "image/png": "[encoded data removed]",
      "text/plain": [
       "<Figure size 800x500 with 1 Axes>"
      ]
     },
     "metadata": {},
     "output_type": "display_data"
    }
   ],
   "source": [
    "# Plot graph with x, y and label set the fontsize = 14\n",
    "# Plot + title and set the fontsize = 14\n",
    "# plot size as (8,5)\n",
    "# plot with legend\n",
    "# plot with grid\n",
    "\n",
    "# plot size as (8,5)\n",
    "plt.figure(figsize=(8, 5))\n",
    "\n",
    "# Plot graph with x, y and label set the fontsize = 14\n",
    "plt.xlabel('t') \n",
    "plt.ylabel('y') \n",
    "plt.plot(2 * t / (1 + t**2)**2, label='f(t)')\n",
    "\n",
    "# Plot + title and set the fontsize = 14\n",
    "plt.title(\"Jace Marden + Graph of $y = \\\\frac{2t}{(1+t^2)^2}$\", fontsize=14)\n",
    "\n",
    "# plot with legend\n",
    "plt.legend()\n",
    "\n",
    "# plot with grid\n",
    "plt.grid(alpha=0.4)\n",
    "\n",
    "plt.show()"
   ]
  },
  {
   "cell_type": "markdown",
   "metadata": {
    "jp-MarkdownHeadingCollapsed": true
   },
   "source": [
    "#### Graduate student Instructions (CS557)\n",
    "\n",
    "- Let's think if we have this function: f (t) defined by: f (t) = 2t / (1 + t ^ 2) ^ 2 with t> 0.\n",
    "- Where t could be generated by np.linspace(0,10,100)\n",
    "- Provide line graph with mask = star\n",
    "- Provide bar graph with any 5 points data"
   ]
  },
  {
   "cell_type": "code",
   "execution_count": null,
   "metadata": {},
   "outputs": [],
   "source": [
    "# Your code:\n"
   ]
  },
  {
   "cell_type": "code",
   "execution_count": null,
   "metadata": {},
   "outputs": [],
   "source": [
    "# Line Graph\n",
    "# Plot graph with x, y and label set the fontsize = 14\n",
    "# Plot <Your Name> + title and set the fontsize = 14\n",
    "# plot size as (8,5)\n",
    "# plot with legend\n",
    "# plot with grid\n",
    "\n",
    "\n",
    "plt.title(\"<Your Name> + Graph of $y = \\\\frac{2x}{(1+x^2)^2}$\", fontsize=14)\n",
    "\n",
    "plt.show()"
   ]
  },
  {
   "cell_type": "code",
   "execution_count": null,
   "metadata": {},
   "outputs": [],
   "source": [
    "# Bar Graph\n",
    "# Plot graph with x, y and label set the fontsize = 14\n",
    "# Plot <Your Name> + title and set the fontsize = 14\n",
    "# plot size as (8,5)\n",
    "# plot with legend\n",
    "# plot with grid\n",
    "\n",
    "\n",
    "plt.title(\"<Your Name> + Graph of $y = \\\\frac{2x}{(1+x^2)^2}$\", fontsize=14)\n",
    "\n",
    "plt.show()"
   ]
  },
  {
   "cell_type": "markdown",
   "metadata": {},
   "source": [
    "# Exercise 3 - Pandas "
   ]
  },
  {
   "cell_type": "markdown",
   "metadata": {},
   "source": [
    "#### You have obtained a piece of data about a hill. Please manually assign this data to a dictionary.\n",
    "\n",
    "\n",
    "\"Hill Name\": [\"Everest\", \"K2\", \"Kangchenjunga\", \"Lhotse\", \"Makalu\", \"Cho Oyu\", \"Dhaulagiri\", \"Manaslu\", \"Nanga Parbat\", \"Annapurna\"],\n",
    "\n",
    "\"Height (m)\": [8848, 8611, 8586, 8516, 8485, 8188, 8167, 8163, 8126, 8091],\n",
    "\n",
    "\"Location\": [\"Nepal/China\", \"Pakistan/China\", \"Nepal/India\", \"Nepal/China\", \"Nepal/China\", \"Nepal/China\", \"Nepal\", \"Nepal\", \"Pakistan\", \"Nepal\"],\n",
    "\n",
    "\"First Ascent Year\": [1953, 1954, 1955, 1956, 1955, 1954, 1960, 1956, 1953, 1950],\n",
    "\n",
    "\"Prominence (m)\": [8848, 4017, 3922, 610, 2378, 2340, 3357, 3092, 4608, 2984]\n"
   ]
  },
  {
   "cell_type": "code",
   "execution_count": 17,
   "metadata": {},
   "outputs": [
    {
     "data": {
      "text/plain": [
       "{'Hill Name': ['Everest',\n",
       "  'K2',\n",
       "  'Kangchenjunga',\n",
       "  'Lhotse',\n",
       "  'Makalu',\n",
       "  'Cho Oyu',\n",
       "  'Dhaulagiri',\n",
       "  'Manaslu',\n",
       "  'Nanga Parbat',\n",
       "  'Annapurna'],\n",
       " 'Height (m)': [8848, 8611, 8586, 8516, 8485, 8188, 8167, 8163, 8126, 8091],\n",
       " 'Location': ['Nepal/China',\n",
       "  'Pakistan/China',\n",
       "  'Nepal/India',\n",
       "  'Nepal/China',\n",
       "  'Nepal/China',\n",
       "  'Nepal/China',\n",
       "  'Nepal',\n",
       "  'Nepal',\n",
       "  'Pakistan',\n",
       "  'Nepal'],\n",
       " 'First Ascent Year': [1953,\n",
       "  1954,\n",
       "  1955,\n",
       "  1956,\n",
       "  1955,\n",
       "  1954,\n",
       "  1960,\n",
       "  1956,\n",
       "  1953,\n",
       "  1950],\n",
       " 'Prominence (m)': [8848, 4017, 3922, 610, 2378, 2340, 3357, 3092, 4608, 2984]}"
      ]
     },
     "execution_count": 17,
     "metadata": {},
     "output_type": "execute_result"
    }
   ],
   "source": [
    "# Your code: \n",
    "hill_data =  {\n",
    "    \"Hill Name\": [\"Everest\", \"K2\", \"Kangchenjunga\", \"Lhotse\", \"Makalu\", \"Cho Oyu\", \"Dhaulagiri\", \"Manaslu\", \"Nanga Parbat\", \"Annapurna\"],\n",
    "    \"Height (m)\": [8848, 8611, 8586, 8516, 8485, 8188, 8167, 8163, 8126, 8091],\n",
    "    \"Location\": [\"Nepal/China\", \"Pakistan/China\", \"Nepal/India\", \"Nepal/China\", \"Nepal/China\", \"Nepal/China\", \"Nepal\", \"Nepal\", \"Pakistan\", \"Nepal\"],\n",
    "    \"First Ascent Year\": [1953, 1954, 1955, 1956, 1955, 1954, 1960, 1956, 1953, 1950],\n",
    "    \"Prominence (m)\": [8848, 4017, 3922, 610, 2378, 2340, 3357, 3092, 4608, 2984]\n",
    "}\n",
    "hill_data"
   ]
  },
  {
   "cell_type": "markdown",
   "metadata": {},
   "source": [
    "#### Convert your dictionary to a pandas dataframe with name hill_pd"
   ]
  },
  {
   "cell_type": "code",
   "execution_count": 18,
   "metadata": {},
   "outputs": [
    {
     "data": {
      "text/html": [
       "<div>\n",
       "<style scoped>\n",
       "    .dataframe tbody tr th:only-of-type {\n",
       "        vertical-align: middle;\n",
       "    }\n",
       "\n",
       "    .dataframe tbody tr th {\n",
       "        vertical-align: top;\n",
       "    }\n",
       "\n",
       "    .dataframe thead th {\n",
       "        text-align: right;\n",
       "    }\n",
       "</style>\n",
       "<table border=\"1\" class=\"dataframe\">\n",
       "  <thead>\n",
       "    <tr style=\"text-align: right;\">\n",
       "      <th></th>\n",
       "      <th>Hill Name</th>\n",
       "      <th>Height (m)</th>\n",
       "      <th>Location</th>\n",
       "      <th>First Ascent Year</th>\n",
       "      <th>Prominence (m)</th>\n",
       "    </tr>\n",
       "  </thead>\n",
       "  <tbody>\n",
       "    <tr>\n",
       "      <th>0</th>\n",
       "      <td>Everest</td>\n",
       "      <td>8848</td>\n",
       "      <td>Nepal/China</td>\n",
       "      <td>1953</td>\n",
       "      <td>8848</td>\n",
       "    </tr>\n",
       "    <tr>\n",
       "      <th>1</th>\n",
       "      <td>K2</td>\n",
       "      <td>8611</td>\n",
       "      <td>Pakistan/China</td>\n",
       "      <td>1954</td>\n",
       "      <td>4017</td>\n",
       "    </tr>\n",
       "    <tr>\n",
       "      <th>2</th>\n",
       "      <td>Kangchenjunga</td>\n",
       "      <td>8586</td>\n",
       "      <td>Nepal/India</td>\n",
       "      <td>1955</td>\n",
       "      <td>3922</td>\n",
       "    </tr>\n",
       "    <tr>\n",
       "      <th>3</th>\n",
       "      <td>Lhotse</td>\n",
       "      <td>8516</td>\n",
       "      <td>Nepal/China</td>\n",
       "      <td>1956</td>\n",
       "      <td>610</td>\n",
       "    </tr>\n",
       "    <tr>\n",
       "      <th>4</th>\n",
       "      <td>Makalu</td>\n",
       "      <td>8485</td>\n",
       "      <td>Nepal/China</td>\n",
       "      <td>1955</td>\n",
       "      <td>2378</td>\n",
       "    </tr>\n",
       "    <tr>\n",
       "      <th>5</th>\n",
       "      <td>Cho Oyu</td>\n",
       "      <td>8188</td>\n",
       "      <td>Nepal/China</td>\n",
       "      <td>1954</td>\n",
       "      <td>2340</td>\n",
       "    </tr>\n",
       "    <tr>\n",
       "      <th>6</th>\n",
       "      <td>Dhaulagiri</td>\n",
       "      <td>8167</td>\n",
       "      <td>Nepal</td>\n",
       "      <td>1960</td>\n",
       "      <td>3357</td>\n",
       "    </tr>\n",
       "    <tr>\n",
       "      <th>7</th>\n",
       "      <td>Manaslu</td>\n",
       "      <td>8163</td>\n",
       "      <td>Nepal</td>\n",
       "      <td>1956</td>\n",
       "      <td>3092</td>\n",
       "    </tr>\n",
       "    <tr>\n",
       "      <th>8</th>\n",
       "      <td>Nanga Parbat</td>\n",
       "      <td>8126</td>\n",
       "      <td>Pakistan</td>\n",
       "      <td>1953</td>\n",
       "      <td>4608</td>\n",
       "    </tr>\n",
       "    <tr>\n",
       "      <th>9</th>\n",
       "      <td>Annapurna</td>\n",
       "      <td>8091</td>\n",
       "      <td>Nepal</td>\n",
       "      <td>1950</td>\n",
       "      <td>2984</td>\n",
       "    </tr>\n",
       "  </tbody>\n",
       "</table>\n",
       "</div>"
      ],
      "text/plain": [
       "       Hill Name  Height (m)        Location  First Ascent Year  \\\n",
       "0        Everest        8848     Nepal/China               1953   \n",
       "1             K2        8611  Pakistan/China               1954   \n",
       "2  Kangchenjunga        8586     Nepal/India               1955   \n",
       "3         Lhotse        8516     Nepal/China               1956   \n",
       "4         Makalu        8485     Nepal/China               1955   \n",
       "5        Cho Oyu        8188     Nepal/China               1954   \n",
       "6     Dhaulagiri        8167           Nepal               1960   \n",
       "7        Manaslu        8163           Nepal               1956   \n",
       "8   Nanga Parbat        8126        Pakistan               1953   \n",
       "9      Annapurna        8091           Nepal               1950   \n",
       "\n",
       "   Prominence (m)  \n",
       "0            8848  \n",
       "1            4017  \n",
       "2            3922  \n",
       "3             610  \n",
       "4            2378  \n",
       "5            2340  \n",
       "6            3357  \n",
       "7            3092  \n",
       "8            4608  \n",
       "9            2984  "
      ]
     },
     "execution_count": 18,
     "metadata": {},
     "output_type": "execute_result"
    }
   ],
   "source": [
    "#Your code:\n",
    "hill_pd = pd.DataFrame(hill_data)\n",
    "hill_pd"
   ]
  },
  {
   "cell_type": "markdown",
   "metadata": {},
   "source": [
    "#### Save your hill_pd to csv"
   ]
  },
  {
   "cell_type": "code",
   "execution_count": 20,
   "metadata": {},
   "outputs": [],
   "source": [
    "# Your code:\n",
    "hill_pd.to_csv('hill_out.csv', index=False)"
   ]
  },
  {
   "cell_type": "markdown",
   "metadata": {},
   "source": [
    "#### Read your hill data from your csv"
   ]
  },
  {
   "cell_type": "code",
   "execution_count": 21,
   "metadata": {},
   "outputs": [
    {
     "data": {
      "text/html": [
       "<div>\n",
       "<style scoped>\n",
       "    .dataframe tbody tr th:only-of-type {\n",
       "        vertical-align: middle;\n",
       "    }\n",
       "\n",
       "    .dataframe tbody tr th {\n",
       "        vertical-align: top;\n",
       "    }\n",
       "\n",
       "    .dataframe thead th {\n",
       "        text-align: right;\n",
       "    }\n",
       "</style>\n",
       "<table border=\"1\" class=\"dataframe\">\n",
       "  <thead>\n",
       "    <tr style=\"text-align: right;\">\n",
       "      <th></th>\n",
       "      <th>Hill Name</th>\n",
       "      <th>Height (m)</th>\n",
       "      <th>Location</th>\n",
       "      <th>First Ascent Year</th>\n",
       "      <th>Prominence (m)</th>\n",
       "    </tr>\n",
       "  </thead>\n",
       "  <tbody>\n",
       "    <tr>\n",
       "      <th>0</th>\n",
       "      <td>Everest</td>\n",
       "      <td>8848</td>\n",
       "      <td>Nepal/China</td>\n",
       "      <td>1953</td>\n",
       "      <td>8848</td>\n",
       "    </tr>\n",
       "    <tr>\n",
       "      <th>1</th>\n",
       "      <td>K2</td>\n",
       "      <td>8611</td>\n",
       "      <td>Pakistan/China</td>\n",
       "      <td>1954</td>\n",
       "      <td>4017</td>\n",
       "    </tr>\n",
       "    <tr>\n",
       "      <th>2</th>\n",
       "      <td>Kangchenjunga</td>\n",
       "      <td>8586</td>\n",
       "      <td>Nepal/India</td>\n",
       "      <td>1955</td>\n",
       "      <td>3922</td>\n",
       "    </tr>\n",
       "    <tr>\n",
       "      <th>3</th>\n",
       "      <td>Lhotse</td>\n",
       "      <td>8516</td>\n",
       "      <td>Nepal/China</td>\n",
       "      <td>1956</td>\n",
       "      <td>610</td>\n",
       "    </tr>\n",
       "    <tr>\n",
       "      <th>4</th>\n",
       "      <td>Makalu</td>\n",
       "      <td>8485</td>\n",
       "      <td>Nepal/China</td>\n",
       "      <td>1955</td>\n",
       "      <td>2378</td>\n",
       "    </tr>\n",
       "    <tr>\n",
       "      <th>5</th>\n",
       "      <td>Cho Oyu</td>\n",
       "      <td>8188</td>\n",
       "      <td>Nepal/China</td>\n",
       "      <td>1954</td>\n",
       "      <td>2340</td>\n",
       "    </tr>\n",
       "    <tr>\n",
       "      <th>6</th>\n",
       "      <td>Dhaulagiri</td>\n",
       "      <td>8167</td>\n",
       "      <td>Nepal</td>\n",
       "      <td>1960</td>\n",
       "      <td>3357</td>\n",
       "    </tr>\n",
       "    <tr>\n",
       "      <th>7</th>\n",
       "      <td>Manaslu</td>\n",
       "      <td>8163</td>\n",
       "      <td>Nepal</td>\n",
       "      <td>1956</td>\n",
       "      <td>3092</td>\n",
       "    </tr>\n",
       "    <tr>\n",
       "      <th>8</th>\n",
       "      <td>Nanga Parbat</td>\n",
       "      <td>8126</td>\n",
       "      <td>Pakistan</td>\n",
       "      <td>1953</td>\n",
       "      <td>4608</td>\n",
       "    </tr>\n",
       "    <tr>\n",
       "      <th>9</th>\n",
       "      <td>Annapurna</td>\n",
       "      <td>8091</td>\n",
       "      <td>Nepal</td>\n",
       "      <td>1950</td>\n",
       "      <td>2984</td>\n",
       "    </tr>\n",
       "  </tbody>\n",
       "</table>\n",
       "</div>"
      ],
      "text/plain": [
       "       Hill Name  Height (m)        Location  First Ascent Year  \\\n",
       "0        Everest        8848     Nepal/China               1953   \n",
       "1             K2        8611  Pakistan/China               1954   \n",
       "2  Kangchenjunga        8586     Nepal/India               1955   \n",
       "3         Lhotse        8516     Nepal/China               1956   \n",
       "4         Makalu        8485     Nepal/China               1955   \n",
       "5        Cho Oyu        8188     Nepal/China               1954   \n",
       "6     Dhaulagiri        8167           Nepal               1960   \n",
       "7        Manaslu        8163           Nepal               1956   \n",
       "8   Nanga Parbat        8126        Pakistan               1953   \n",
       "9      Annapurna        8091           Nepal               1950   \n",
       "\n",
       "   Prominence (m)  \n",
       "0            8848  \n",
       "1            4017  \n",
       "2            3922  \n",
       "3             610  \n",
       "4            2378  \n",
       "5            2340  \n",
       "6            3357  \n",
       "7            3092  \n",
       "8            4608  \n",
       "9            2984  "
      ]
     },
     "execution_count": 21,
     "metadata": {},
     "output_type": "execute_result"
    }
   ],
   "source": [
    "# your code\n",
    "pd.read_csv('hill_out.csv')"
   ]
  },
  {
   "cell_type": "markdown",
   "metadata": {},
   "source": [
    "#### Please select hills with an altitude higher than 8100 meters and express them in the form of a bar graph."
   ]
  },
  {
   "cell_type": "code",
   "execution_count": 23,
   "metadata": {},
   "outputs": [
    {
     "data": {
      "text/html": [
       "<div>\n",
       "<style scoped>\n",
       "    .dataframe tbody tr th:only-of-type {\n",
       "        vertical-align: middle;\n",
       "    }\n",
       "\n",
       "    .dataframe tbody tr th {\n",
       "        vertical-align: top;\n",
       "    }\n",
       "\n",
       "    .dataframe thead th {\n",
       "        text-align: right;\n",
       "    }\n",
       "</style>\n",
       "<table border=\"1\" class=\"dataframe\">\n",
       "  <thead>\n",
       "    <tr style=\"text-align: right;\">\n",
       "      <th></th>\n",
       "      <th>Hill Name</th>\n",
       "      <th>Height (m)</th>\n",
       "      <th>Location</th>\n",
       "      <th>First Ascent Year</th>\n",
       "      <th>Prominence (m)</th>\n",
       "    </tr>\n",
       "  </thead>\n",
       "  <tbody>\n",
       "    <tr>\n",
       "      <th>0</th>\n",
       "      <td>Everest</td>\n",
       "      <td>8848</td>\n",
       "      <td>Nepal/China</td>\n",
       "      <td>1953</td>\n",
       "      <td>8848</td>\n",
       "    </tr>\n",
       "    <tr>\n",
       "      <th>1</th>\n",
       "      <td>K2</td>\n",
       "      <td>8611</td>\n",
       "      <td>Pakistan/China</td>\n",
       "      <td>1954</td>\n",
       "      <td>4017</td>\n",
       "    </tr>\n",
       "    <tr>\n",
       "      <th>2</th>\n",
       "      <td>Kangchenjunga</td>\n",
       "      <td>8586</td>\n",
       "      <td>Nepal/India</td>\n",
       "      <td>1955</td>\n",
       "      <td>3922</td>\n",
       "    </tr>\n",
       "    <tr>\n",
       "      <th>3</th>\n",
       "      <td>Lhotse</td>\n",
       "      <td>8516</td>\n",
       "      <td>Nepal/China</td>\n",
       "      <td>1956</td>\n",
       "      <td>610</td>\n",
       "    </tr>\n",
       "    <tr>\n",
       "      <th>4</th>\n",
       "      <td>Makalu</td>\n",
       "      <td>8485</td>\n",
       "      <td>Nepal/China</td>\n",
       "      <td>1955</td>\n",
       "      <td>2378</td>\n",
       "    </tr>\n",
       "    <tr>\n",
       "      <th>5</th>\n",
       "      <td>Cho Oyu</td>\n",
       "      <td>8188</td>\n",
       "      <td>Nepal/China</td>\n",
       "      <td>1954</td>\n",
       "      <td>2340</td>\n",
       "    </tr>\n",
       "    <tr>\n",
       "      <th>6</th>\n",
       "      <td>Dhaulagiri</td>\n",
       "      <td>8167</td>\n",
       "      <td>Nepal</td>\n",
       "      <td>1960</td>\n",
       "      <td>3357</td>\n",
       "    </tr>\n",
       "    <tr>\n",
       "      <th>7</th>\n",
       "      <td>Manaslu</td>\n",
       "      <td>8163</td>\n",
       "      <td>Nepal</td>\n",
       "      <td>1956</td>\n",
       "      <td>3092</td>\n",
       "    </tr>\n",
       "    <tr>\n",
       "      <th>8</th>\n",
       "      <td>Nanga Parbat</td>\n",
       "      <td>8126</td>\n",
       "      <td>Pakistan</td>\n",
       "      <td>1953</td>\n",
       "      <td>4608</td>\n",
       "    </tr>\n",
       "  </tbody>\n",
       "</table>\n",
       "</div>"
      ],
      "text/plain": [
       "       Hill Name  Height (m)        Location  First Ascent Year  \\\n",
       "0        Everest        8848     Nepal/China               1953   \n",
       "1             K2        8611  Pakistan/China               1954   \n",
       "2  Kangchenjunga        8586     Nepal/India               1955   \n",
       "3         Lhotse        8516     Nepal/China               1956   \n",
       "4         Makalu        8485     Nepal/China               1955   \n",
       "5        Cho Oyu        8188     Nepal/China               1954   \n",
       "6     Dhaulagiri        8167           Nepal               1960   \n",
       "7        Manaslu        8163           Nepal               1956   \n",
       "8   Nanga Parbat        8126        Pakistan               1953   \n",
       "\n",
       "   Prominence (m)  \n",
       "0            8848  \n",
       "1            4017  \n",
       "2            3922  \n",
       "3             610  \n",
       "4            2378  \n",
       "5            2340  \n",
       "6            3357  \n",
       "7            3092  \n",
       "8            4608  "
      ]
     },
     "execution_count": 23,
     "metadata": {},
     "output_type": "execute_result"
    }
   ],
   "source": [
    "# your code:\n",
    "selected_hill = hill_pd[hill_pd[\"Height (m)\"] > 8100]\n",
    "selected_hill"
   ]
  },
  {
   "cell_type": "code",
   "execution_count": 33,
   "metadata": {},
   "outputs": [
    {
     "data": {
      "text/plain": [
       "<Axes: title={'center': 'Jace Marden Hill Heights'}, xlabel='Hill Name', ylabel='Height (m)'>"
      ]
     },
     "execution_count": 33,
     "metadata": {},
     "output_type": "execute_result"
    },
    {
     "data": {
      "image/png": "[encoded data removed]",
      "text/plain": [
       "<Figure size 640x480 with 1 Axes>"
      ]
     },
     "metadata": {},
     "output_type": "display_data"
    }
   ],
   "source": [
    "# Visualization\n",
    "# Need to add x,y labels, titles and grid.\n",
    "# Please add your name on graph titles.\n",
    "\n",
    "# your code\n",
    "selected_hill.plot(x=\"Hill Name\", y=\"Height (m)\", title=\"Jace Marden Hill Heights\", ylabel=\"Height (m)\", grid=0.4, kind=\"bar\")"
   ]
  },
  {
   "cell_type": "markdown",
   "metadata": {
    "jp-MarkdownHeadingCollapsed": true
   },
   "source": [
    "#### For Graduate students only (CS557)\n",
    "\n",
    "Please add another set of visualizations using the **Prominence** data and explain their significance."
   ]
  },
  {
   "cell_type": "code",
   "execution_count": null,
   "metadata": {},
   "outputs": [],
   "source": []
  }
 ],
 "metadata": {
  "kernelspec": {
   "display_name": "Python 3 (ipykernel)",
   "language": "python",
   "name": "python3"
  },
  "language_info": {
   "codemirror_mode": {
    "name": "ipython",
    "version": 3
   },
   "file_extension": ".py",
   "mimetype": "text/x-python",
   "name": "python",
   "nbconvert_exporter": "python",
   "pygments_lexer": "ipython3",
   "version": "3.13.1"
  }
 },
 "nbformat": 4,
 "nbformat_minor": 4
}
