{
 "cells": [
  {
   "cell_type": "markdown",
   "metadata": {},
   "source": [
    "# Exercises with Python"
   ]
  },
  {
   "cell_type": "code",
   "execution_count": 1,
   "metadata": {},
   "outputs": [],
   "source": [
    "import numpy as np\n",
    "import matplotlib.pyplot as plt\n",
    "import pandas as pd"
   ]
  },
  {
   "cell_type": "markdown",
   "metadata": {},
   "source": [
    "## Exercise 1 - Numpy\n",
    "#### Creat an array of 450 random integers between -10 and 10"
   ]
  },
  {
   "cell_type": "code",
   "execution_count": 6,
   "metadata": {},
   "outputs": [
    {
     "data": {
      "text/plain": [
       "array([ -2,   1,  -4,   6,  -8,  -7,  -1,   6,  -4,   1,  10,   9,   2,\n",
       "        -2, -10, -10, -10,   4,  -6,   9,   7,   1,   4,  -5,   9,  -2,\n",
       "        -2,   9,  10,  -8,  -1,  10,   9,  -2,   4,   6,  -9,  -2, -10,\n",
       "        -5,   9,  -4,  -8,  -4,  -6,  -1,   2,  -8,  -8,   3,   9,   4,\n",
       "         3,  -5,  -9,  -6,   9,   3,  -4,  -4,  -3,   0,  -7,   4,  -1,\n",
       "         6,   0,   0,   6,   6,   3, -10,  -4,   2,   6,   2,   9,   4,\n",
       "        -6,  -1, -10,   2,  -3,  -5,   1,  -2,  -2,  -7,   0,   2,   3,\n",
       "         8,   3,   6,  -2,  -4,   3,   8,   6,  10,  -8,  -6,   9,  -3,\n",
       "        -7,   7, -10,  -5, -10,   4,   9,  -9,  -9,  -9,   5,  -8,  -9,\n",
       "        -8,   5, -10,  10,   6,   0, -10,  10,   6,  -9,   6,   5,   7,\n",
       "        10,  -1,  -3,  -2,  -6, -10,  -2,  -6,   9,  10,   9,  -9,   9,\n",
       "         9,  -8,   1,   4,  -4,   6,  -3,   8,   2,  -7, -10,   2,   1,\n",
       "        -3,  -2,   0,   3,   9,  -8,  -8,   3,   4,   8,   8,  -5,   3,\n",
       "         8,  -4,   0,  -9,   4,  -3,   7,   5,  -7,   1,  -9,  -9,  -6,\n",
       "         3,  -8,   6,  -3,   7,   5,   1,   5,   7,   7,  -6,  -8,   6,\n",
       "         7,  -5,  -9,   8,   7,  -8,   5,  -3,   6,  -3,  -3,  -3,  -9,\n",
       "        -3, -10,   5,  10,   9,   4,  -4,   9,   0,  -6,   3, -10,   6,\n",
       "         9,   5,  10,   5,   0,   1,   5,  10,  -3,   4, -10,   9,   5,\n",
       "        10,   5,  -1,   9,   5,  10,  -2,   2,   5,  -7,  -4,   8,   8,\n",
       "        -3,  -7, -10, -10,  -4,  -4,  -8,  -9,   2,  -6,   5,   3,  -8,\n",
       "         9,  10,  -1,  -5,   2,  -4,   0,  -1,  -9,  -5,  -4,  -6,  -8,\n",
       "         2,   2,  -9,  -5,  10,  -2,  -2,   7,  -3,   5,   4,   5,   0,\n",
       "         3,  -9,  -1,  -3,   6,   3,  -1,   3,   0,  10,   4,  -1,   6,\n",
       "        -3,  10,   8,  -9,  -4,  -3,  -5,  10,   9,   2,   2,  10,   8,\n",
       "         2,   4,   0,   9,   4,   9,   3,  -2,  -1,   4,  -2,  10,   2,\n",
       "        -4,  -2,  -2,  -5,   9,  -5,  -1,   6, -10,  10,  -9,  -1, -10,\n",
       "       -10,   6,  -9,   1,   6,  -3,   7,   1,   8, -10,  -5,   6,  -2,\n",
       "        -4,  -1,  -4, -10,   3,  -2,  -1,  -4,   8, -10,  -7,  10,   3,\n",
       "        -7,   5,  -8,  -7,  -1,  -9,  10,  -3,   3,   0,   0,  -3,   5,\n",
       "         6,   3, -10,  -8,   6,   9,  10,  10,  -7,   2,   4,  -4,  -7,\n",
       "         4,  -7,   3,  -8,   8,  -1,   7,   8,   0,   6,   3, -10,  -9,\n",
       "        -6,  -9,  -1,   9,  -7,   4, -10,  10,  -6,  -2,   1,   0,  -7,\n",
       "         4,   1,   1,   0,   3,   4,  -3,   4,   2,   4,  -3,   2,   7,\n",
       "        -3,   8,   9,   7, -10,  -2, -10,   8,   4,  -3,   6,  -7,  -9,\n",
       "         4,  10,  -4,   3,  -6,   7,  -4,  -1], dtype=int32)"
      ]
     },
     "execution_count": 6,
     "metadata": {},
     "output_type": "execute_result"
    }
   ],
   "source": [
    "# Your code: \n",
    "\n",
    "array = np.random.randint(-10, 11, 450)\n",
    "\n",
    "array"
   ]
  },
  {
   "cell_type": "markdown",
   "metadata": {},
   "source": [
    "#### Resize the above array as a 5x70 matrix. \n",
    "#### Is there a problem? \n",
    "\n",
    "#### If there is, correct it to a suitable shape.\n",
    "\n",
    "We check what dimension our array has:"
   ]
  },
  {
   "cell_type": "code",
   "execution_count": 7,
   "metadata": {},
   "outputs": [
    {
     "name": "stdout",
     "output_type": "stream",
     "text": [
      "(450,)\n"
     ]
    },
    {
     "ename": "ValueError",
     "evalue": "cannot reshape array of size 450 into shape (5,70)",
     "output_type": "error",
     "traceback": [
      "\u001b[1;31m---------------------------------------------------------------------------\u001b[0m",
      "\u001b[1;31mValueError\u001b[0m                                Traceback (most recent call last)",
      "Cell \u001b[1;32mIn[7], line 5\u001b[0m\n\u001b[0;32m      1\u001b[0m \u001b[38;5;66;03m# Your code:\u001b[39;00m\n\u001b[0;32m      3\u001b[0m \u001b[38;5;28mprint\u001b[39m(array\u001b[38;5;241m.\u001b[39mshape)\n\u001b[1;32m----> 5\u001b[0m new_matrix \u001b[38;5;241m=\u001b[39m \u001b[43marray\u001b[49m\u001b[38;5;241;43m.\u001b[39;49m\u001b[43mreshape\u001b[49m\u001b[43m(\u001b[49m\u001b[38;5;241;43m5\u001b[39;49m\u001b[43m,\u001b[49m\u001b[43m \u001b[49m\u001b[38;5;241;43m70\u001b[39;49m\u001b[43m)\u001b[49m\n\u001b[0;32m      8\u001b[0m \u001b[38;5;66;03m# Is there a problem? why?\u001b[39;00m\n\u001b[0;32m      9\u001b[0m \u001b[38;5;66;03m#Please add your idea\u001b[39;00m\n\u001b[0;32m     10\u001b[0m \u001b[38;5;66;03m#450 elements cannot be reshaped into 350 element space\u001b[39;00m\n\u001b[0;32m     11\u001b[0m \u001b[38;5;66;03m# instead 5 x 90 must be used to work\u001b[39;00m\n",
      "\u001b[1;31mValueError\u001b[0m: cannot reshape array of size 450 into shape (5,70)"
     ]
    }
   ],
   "source": [
    "# Your code:\n",
    "\n",
    "print(array.shape)\n",
    "\n",
    "new_matrix = array.reshape(5, 70)\n",
    "\n",
    "\n",
    "# Is there a problem? why?\n",
    "#Please add your idea\n",
    "#450 elements cannot be reshaped into 350 element space\n",
    "# instead 5 x 90 must be used to work\n"
   ]
  },
  {
   "cell_type": "code",
   "execution_count": 8,
   "metadata": {},
   "outputs": [
    {
     "data": {
      "text/plain": [
       "(450,)"
      ]
     },
     "execution_count": 8,
     "metadata": {},
     "output_type": "execute_result"
    }
   ],
   "source": [
    "array.shape"
   ]
  },
  {
   "cell_type": "markdown",
   "metadata": {},
   "source": [
    "We resize:"
   ]
  },
  {
   "cell_type": "code",
   "execution_count": 9,
   "metadata": {},
   "outputs": [
    {
     "data": {
      "text/plain": [
       "(5, 90)"
      ]
     },
     "execution_count": 9,
     "metadata": {},
     "output_type": "execute_result"
    }
   ],
   "source": [
    "corrected_matrix = array.reshape(5, 90)\n",
    "corrected_matrix.shape"
   ]
  },
  {
   "cell_type": "markdown",
   "metadata": {},
   "source": [
    "#### Choose values greater than 0 from your corrected_matrix."
   ]
  },
  {
   "cell_type": "code",
   "execution_count": 22,
   "metadata": {},
   "outputs": [
    {
     "data": {
      "text/plain": [
       "array([ 1,  6,  6,  1, 10,  9,  2,  4,  9,  7,  1,  4,  9,  9, 10, 10,  9,\n",
       "        4,  6,  9,  2,  3,  9,  4,  3,  9,  3,  4,  6,  6,  6,  3,  2,  6,\n",
       "        2,  9,  4,  2,  1,  2,  3,  8,  3,  6,  3,  8,  6, 10,  9,  7,  4,\n",
       "        9,  5,  5, 10,  6, 10,  6,  6,  5,  7, 10,  9, 10,  9,  9,  9,  1,\n",
       "        4,  6,  8,  2,  2,  1,  3,  9,  3,  4,  8,  8,  3,  8,  4,  7,  5,\n",
       "        1,  3,  6,  7,  5,  1,  5,  7,  7,  6,  7,  8,  7,  5,  6,  5, 10,\n",
       "        9,  4,  9,  3,  6,  9,  5, 10,  5,  1,  5, 10,  4,  9,  5, 10,  5,\n",
       "        9,  5, 10,  2,  5,  8,  8,  2,  5,  3,  9, 10,  2,  2,  2, 10,  7,\n",
       "        5,  4,  5,  3,  6,  3,  3, 10,  4,  6, 10,  8, 10,  9,  2,  2, 10,\n",
       "        8,  2,  4,  9,  4,  9,  3,  4, 10,  2,  9,  6, 10,  6,  1,  6,  7,\n",
       "        1,  8,  6,  3,  8, 10,  3,  5, 10,  3,  5,  6,  3,  6,  9, 10, 10,\n",
       "        2,  4,  4,  3,  8,  7,  8,  6,  3,  9,  4, 10,  1,  4,  1,  1,  3,\n",
       "        4,  4,  2,  4,  2,  7,  8,  9,  7,  8,  4,  6,  4, 10,  3,  7],\n",
       "      dtype=int32)"
      ]
     },
     "execution_count": 22,
     "metadata": {},
     "output_type": "execute_result"
    }
   ],
   "source": [
    "# Your code\n",
    "#tried np where, asarray, select, and a bunch of methods before realizing this was possible\n",
    "corrected_matrix[corrected_matrix > 0]"
   ]
  },
  {
   "cell_type": "markdown",
   "metadata": {},
   "source": [
    "#### Given this array x = np.array ([- 5,6, -7,9]), create another array in absolute value "
   ]
  },
  {
   "cell_type": "code",
   "execution_count": 24,
   "metadata": {},
   "outputs": [
    {
     "data": {
      "text/plain": [
       "array([5, 6, 7, 9])"
      ]
     },
     "execution_count": 24,
     "metadata": {},
     "output_type": "execute_result"
    }
   ],
   "source": [
    "# your code:\n",
    "x = np.array ([- 5,6, -7,9])\n",
    "x_abs = np.absolute(x)\n",
    "x_abs"
   ]
  },
  {
   "cell_type": "markdown",
   "metadata": {},
   "source": [
    "#### Given this array x = np.array ([- 5,6, -7,9]), transform it into a 2x2 matrix and calculate the maximum and minimum of each row and column. "
   ]
  },
  {
   "cell_type": "code",
   "execution_count": 32,
   "metadata": {},
   "outputs": [
    {
     "name": "stdout",
     "output_type": "stream",
     "text": [
      "[[-5  6]\n",
      " [-7  9]]\n",
      "Min of columns :  [-7  6]\n",
      "Min of rows :  [-5 -7]\n"
     ]
    }
   ],
   "source": [
    "# your code:\n",
    "x = np.array ([- 5,6, -7,9])\n",
    "\n",
    "x_reshaped = x.reshape(2, 2)\n",
    "print(x_reshaped)\n",
    "\n",
    "min_col = np.min(x_reshaped, axis=0)\n",
    "print('Min of columns : ', min_col)\n",
    "\n",
    "min_row = np.min(x_reshaped, axis=1)\n",
    "print('Min of rows : ', min_row)"
   ]
  },
  {
   "cell_type": "markdown",
   "metadata": {},
   "source": [
    "#### Create a matrix of ones with 3x3 range as a_ones, and modify the the a_ones[1][0] = 3  "
   ]
  },
  {
   "cell_type": "code",
   "execution_count": 33,
   "metadata": {},
   "outputs": [
    {
     "data": {
      "text/plain": [
       "array([[1., 1., 1.],\n",
       "       [3., 1., 1.],\n",
       "       [1., 1., 1.]])"
      ]
     },
     "execution_count": 33,
     "metadata": {},
     "output_type": "execute_result"
    }
   ],
   "source": [
    "# your code:\n",
    "\n",
    "a_ones = np.ones(9).reshape(3, 3)\n",
    "\n",
    "a_ones[1][0] = 3\n",
    "\n",
    "a_ones\n"
   ]
  },
  {
   "cell_type": "markdown",
   "metadata": {},
   "source": [
    "#### Compute dot product for a_ones and x_reshaped"
   ]
  },
  {
   "cell_type": "code",
   "execution_count": 34,
   "metadata": {},
   "outputs": [
    {
     "ename": "ValueError",
     "evalue": "shapes (3,3) and (2,2) not aligned: 3 (dim 1) != 2 (dim 0)",
     "output_type": "error",
     "traceback": [
      "\u001b[1;31m---------------------------------------------------------------------------\u001b[0m",
      "\u001b[1;31mValueError\u001b[0m                                Traceback (most recent call last)",
      "Cell \u001b[1;32mIn[34], line 2\u001b[0m\n\u001b[0;32m      1\u001b[0m \u001b[38;5;66;03m# your code\u001b[39;00m\n\u001b[1;32m----> 2\u001b[0m \u001b[43mnp\u001b[49m\u001b[38;5;241;43m.\u001b[39;49m\u001b[43mdot\u001b[49m\u001b[43m(\u001b[49m\u001b[43ma_ones\u001b[49m\u001b[43m,\u001b[49m\u001b[43m \u001b[49m\u001b[43mx_reshaped\u001b[49m\u001b[43m)\u001b[49m\n\u001b[0;32m      5\u001b[0m \u001b[38;5;66;03m# List the mathematical calculation steps\u001b[39;00m\n",
      "\u001b[1;31mValueError\u001b[0m: shapes (3,3) and (2,2) not aligned: 3 (dim 1) != 2 (dim 0)"
     ]
    }
   ],
   "source": [
    "# Since a_ones is a 2x2 matrix and x_reshaped is a 3x3 matrix they are incompatible for dot product\n",
    "# to solve this without lossy I will pad\n",
    "\n",
    "# your code\n",
    "np.dot(np.pad(a_ones, (2, 3), 'constant', 0), x_reshaped)\n",
    "\n",
    "\n",
    "# List the mathematical calculation steps\n"
   ]
  },
  {
   "cell_type": "markdown",
   "metadata": {},
   "source": [
    "## Exercise 2 - Plot Practice"
   ]
  },
  {
   "cell_type": "markdown",
   "metadata": {},
   "source": [
    "#### Undergraduate student Instructions (CS457)\n",
    "\n",
    "- Let's think if we have this function: f (t) defined by: f (t) = 2t / (1 + t ^ 2) ^ 2 with t> 0.\n",
    "- Where t could be generated by np.linspace(0,10,100)\n",
    "- Provide plot results"
   ]
  },
  {
   "cell_type": "code",
   "execution_count": null,
   "metadata": {},
   "outputs": [],
   "source": [
    "# Your code:\n"
   ]
  },
  {
   "cell_type": "code",
   "execution_count": null,
   "metadata": {},
   "outputs": [],
   "source": [
    "# Plot graph with x, y and label set the fontsize = 14\n",
    "# Plot <Your Name> + title and set the fontsize = 14\n",
    "# plot size as (8,5)\n",
    "# plot with legend\n",
    "# plot with grid\n",
    "\n",
    "\n",
    "plt.title(\"<Your Name> + Graph of $y = \\\\frac{2x}{(1+x^2)^2}$\", fontsize=14)\n",
    "\n",
    "plt.show()"
   ]
  },
  {
   "cell_type": "markdown",
   "metadata": {},
   "source": [
    "#### Graduate student Instructions (CS557)\n",
    "\n",
    "- Let's think if we have this function: f (t) defined by: f (t) = 2t / (1 + t ^ 2) ^ 2 with t> 0.\n",
    "- Where t could be generated by np.linspace(0,10,100)\n",
    "- Provide line graph with mask = star\n",
    "- Provide bar graph with any 5 points data"
   ]
  },
  {
   "cell_type": "code",
   "execution_count": null,
   "metadata": {},
   "outputs": [],
   "source": [
    "# Your code:\n"
   ]
  },
  {
   "cell_type": "code",
   "execution_count": null,
   "metadata": {},
   "outputs": [],
   "source": [
    "# Line Graph\n",
    "# Plot graph with x, y and label set the fontsize = 14\n",
    "# Plot <Your Name> + title and set the fontsize = 14\n",
    "# plot size as (8,5)\n",
    "# plot with legend\n",
    "# plot with grid\n",
    "\n",
    "\n",
    "plt.title(\"<Your Name> + Graph of $y = \\\\frac{2x}{(1+x^2)^2}$\", fontsize=14)\n",
    "\n",
    "plt.show()"
   ]
  },
  {
   "cell_type": "code",
   "execution_count": null,
   "metadata": {},
   "outputs": [],
   "source": [
    "# Bar Graph\n",
    "# Plot graph with x, y and label set the fontsize = 14\n",
    "# Plot <Your Name> + title and set the fontsize = 14\n",
    "# plot size as (8,5)\n",
    "# plot with legend\n",
    "# plot with grid\n",
    "\n",
    "\n",
    "plt.title(\"<Your Name> + Graph of $y = \\\\frac{2x}{(1+x^2)^2}$\", fontsize=14)\n",
    "\n",
    "plt.show()"
   ]
  },
  {
   "cell_type": "markdown",
   "metadata": {},
   "source": [
    "# Exercise 3 - Pandas "
   ]
  },
  {
   "cell_type": "markdown",
   "metadata": {},
   "source": [
    "#### You have obtained a piece of data about a hill. Please manually assign this data to a dictionary.\n",
    "\n",
    "\n",
    "\"Hill Name\": [\"Everest\", \"K2\", \"Kangchenjunga\", \"Lhotse\", \"Makalu\", \"Cho Oyu\", \"Dhaulagiri\", \"Manaslu\", \"Nanga Parbat\", \"Annapurna\"],\n",
    "\n",
    "\"Height (m)\": [8848, 8611, 8586, 8516, 8485, 8188, 8167, 8163, 8126, 8091],\n",
    "\n",
    "\"Location\": [\"Nepal/China\", \"Pakistan/China\", \"Nepal/India\", \"Nepal/China\", \"Nepal/China\", \"Nepal/China\", \"Nepal\", \"Nepal\", \"Pakistan\", \"Nepal\"],\n",
    "\n",
    "\"First Ascent Year\": [1953, 1954, 1955, 1956, 1955, 1954, 1960, 1956, 1953, 1950],\n",
    "\n",
    "\"Prominence (m)\": [8848, 4017, 3922, 610, 2378, 2340, 3357, 3092, 4608, 2984]\n"
   ]
  },
  {
   "cell_type": "code",
   "execution_count": null,
   "metadata": {},
   "outputs": [],
   "source": [
    "# Your code: \n",
    "hill_data =  # your code"
   ]
  },
  {
   "cell_type": "markdown",
   "metadata": {},
   "source": [
    "#### Convert your dictionary to a pandas dataframe with name hill_pd"
   ]
  },
  {
   "cell_type": "code",
   "execution_count": null,
   "metadata": {},
   "outputs": [],
   "source": [
    "\n",
    "#Your code:\n"
   ]
  },
  {
   "cell_type": "markdown",
   "metadata": {},
   "source": [
    "#### Save your hill_pd to csv"
   ]
  },
  {
   "cell_type": "code",
   "execution_count": null,
   "metadata": {},
   "outputs": [],
   "source": [
    "# Your code:\n"
   ]
  },
  {
   "cell_type": "markdown",
   "metadata": {},
   "source": [
    "#### Read your hill data from your csv"
   ]
  },
  {
   "cell_type": "code",
   "execution_count": null,
   "metadata": {},
   "outputs": [],
   "source": [
    "# your code\n"
   ]
  },
  {
   "cell_type": "markdown",
   "metadata": {},
   "source": [
    "#### Please select hills with an altitude higher than 8100 meters and express them in the form of a bar graph."
   ]
  },
  {
   "cell_type": "code",
   "execution_count": null,
   "metadata": {},
   "outputs": [],
   "source": [
    "# your code:\n",
    "\n",
    "selected_hill = #"
   ]
  },
  {
   "cell_type": "code",
   "execution_count": null,
   "metadata": {},
   "outputs": [],
   "source": [
    "# Visualization\n",
    "# Need to add x,y labels, titles and grid.\n",
    "# Please add your name on graph titles.\n",
    "\n",
    "# your code\n"
   ]
  },
  {
   "cell_type": "markdown",
   "metadata": {},
   "source": [
    "#### For Graduate students only (CS557)\n",
    "\n",
    "Please add another set of visualizations using the **Prominence** data and explain their significance."
   ]
  },
  {
   "cell_type": "code",
   "execution_count": null,
   "metadata": {},
   "outputs": [],
   "source": []
  }
 ],
 "metadata": {
  "kernelspec": {
   "display_name": "Python 3 (ipykernel)",
   "language": "python",
   "name": "python3"
  },
  "language_info": {
   "codemirror_mode": {
    "name": "ipython",
    "version": 3
   },
   "file_extension": ".py",
   "mimetype": "text/x-python",
   "name": "python",
   "nbconvert_exporter": "python",
   "pygments_lexer": "ipython3",
   "version": "3.13.1"
  }
 },
 "nbformat": 4,
 "nbformat_minor": 4
}
